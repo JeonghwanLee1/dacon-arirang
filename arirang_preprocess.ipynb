{
  "nbformat": 4,
  "nbformat_minor": 0,
  "metadata": {
    "colab": {
      "name": "arirang_preprocess.ipynb",
      "provenance": [],
      "collapsed_sections": [],
      "authorship_tag": "ABX9TyPvVn/6PnyxOPrE5nhdSSdh",
      "include_colab_link": true
    },
    "kernelspec": {
      "name": "python3",
      "display_name": "Python 3"
    }
  },
  "cells": [
    {
      "cell_type": "markdown",
      "metadata": {
        "id": "view-in-github",
        "colab_type": "text"
      },
      "source": [
        "<a href=\"https://colab.research.google.com/github/JeonghwanLee1/dacon-arirang/blob/master/arirang_preprocess.ipynb\" target=\"_parent\"><img src=\"https://colab.research.google.com/assets/colab-badge.svg\" alt=\"Open In Colab\"/></a>"
      ]
    },
    {
      "cell_type": "code",
      "metadata": {
        "id": "-sb_7BpsGPNe",
        "outputId": "b930bd7b-86da-40bb-a737-debf895cadd6",
        "colab": {
          "base_uri": "https://localhost:8080/",
          "height": 35
        }
      },
      "source": [
        "import json\n",
        "import glob\n",
        "import pandas as pd\n",
        "import numpy as np\n",
        "from google.colab import drive\n",
        "drive.mount('/gdrive', force_remount=True)\n",
        "train_path = '/gdrive/My Drive/dacon_arirang/data/train/'\n",
        "test_path = '/gdrive/My Drive/dacon_arirang/data/test/'\n",
        "files = glob.glob(train_path+\"labelTxt/*.json\")\n",
        "ipathes = []\n",
        "cnames = []\n",
        "x1s = []\n",
        "x2s = []\n",
        "y1s = []\n",
        "y2s = []\n",
        "mapi = {}\n",
        "for f in files:\n",
        "  with open(f,'r') as first_json:\n",
        "    f_json = json.load(first_json)\n",
        "    for feature in f_json['features']:\n",
        "      mapi[cname]=tid\n",
        "      tid = feature['properties']['type_id']\n",
        "      cname = feature['properties']['type_name']\n",
        "      ipath = 'images/'+feature['properties']['image_id']\n",
        "      x1,y1,x2,y2,x3,y3,x4,y4 = list(map(int,list(map(float,feature['properties']['object_imcoords'].split(',')))))\n",
        "      x_1,y_1 = min(x1,x3),min(y1,y3)\n",
        "      x_2,y_2 = max(x1,x3),max(y1,y3)\n",
        "      if x_1 == x_2 :\n",
        "        x_2 +=1\n",
        "      if y_1 == y_2 :\n",
        "        y_2 +=1\n",
        "      ipathes.append(ipath)\n",
        "      cnames.append(cname)\n",
        "      x1s.append(x_1)\n",
        "      x2s.append(x_2)\n",
        "      y1s.append(y_1)\n",
        "      y2s.append(y_2)\n",
        "\n",
        "df = pd.DataFrame({\"path\":ipathes,\"x1\":x1s,\"y1\":y1s,\"x2\":x2s,\"y2\":y2s,\"class_name\":cnames})\n",
        "df.to_csv(\"/gdrive/My Drive/dacon_arirang/data/train/retina.csv\",header=False,index=False)"
      ],
      "execution_count": 77,
      "outputs": [
        {
          "output_type": "stream",
          "text": [
            "Mounted at /gdrive\n"
          ],
          "name": "stdout"
        }
      ]
    },
    {
      "cell_type": "code",
      "metadata": {
        "id": "B1Wb6WtRHPoK"
      },
      "source": [
        "sorted_map = sorted(mapi.items(),key=lambda x:int(x[1]))"
      ],
      "execution_count": 67,
      "outputs": []
    },
    {
      "cell_type": "code",
      "metadata": {
        "id": "zRp_Jj_0aHxi",
        "outputId": "a3a955b5-d53b-4f03-9df8-b3c74ad01e64",
        "colab": {
          "base_uri": "https://localhost:8080/",
          "height": 305
        }
      },
      "source": [
        "for elem in sorted_map:\n",
        "  print(elem[0]+','+elem[1])\n"
      ],
      "execution_count": 68,
      "outputs": [
        {
          "output_type": "stream",
          "text": [
            "small ship,1\n",
            "large ship,2\n",
            "civilian aircraft,3\n",
            "military aircraft,4\n",
            "small car,5\n",
            "bus,6\n",
            "truck,7\n",
            "train,8\n",
            "crane,9\n",
            "bridge,10\n",
            "oil tank,11\n",
            "dam,12\n",
            "athletic field,13\n",
            "helipad,14\n",
            "roundabout,15\n",
            "etc,16\n"
          ],
          "name": "stdout"
        }
      ]
    },
    {
      "cell_type": "code",
      "metadata": {
        "id": "V09rn_EYacSL"
      },
      "source": [
        "dd = pd.read_csv('/gdrive/My Drive/dacon_arirang/data/map.csv')"
      ],
      "execution_count": 69,
      "outputs": []
    }
  ]
}